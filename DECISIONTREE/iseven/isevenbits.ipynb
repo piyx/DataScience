{
 "cells": [
  {
   "cell_type": "markdown",
   "id": "f439d58e",
   "metadata": {},
   "source": [
    "# Make training data"
   ]
  },
  {
   "cell_type": "code",
   "execution_count": 1,
   "id": "9a790318",
   "metadata": {},
   "outputs": [],
   "source": [
    "import csv\n",
    "\n",
    "def iseven(n: int) -> bool:\n",
    "    return n%2 == 0\n",
    "\n",
    "with open('oddevenbits.csv', 'w', newline='') as f:\n",
    "    writer = csv.DictWriter(f, fieldnames=['number', 'iseven'])\n",
    "    writer.writeheader()\n",
    "    for num in range(10000):\n",
    "        writer.writerow({'number': bin(num)[-1], 'iseven': iseven(num)})"
   ]
  },
  {
   "cell_type": "markdown",
   "id": "de5363c7",
   "metadata": {},
   "source": [
    "# Read the data"
   ]
  },
  {
   "cell_type": "code",
   "execution_count": 2,
   "id": "8d6187ef",
   "metadata": {},
   "outputs": [],
   "source": [
    "import pandas as pd\n",
    "\n",
    "df = pd.read_csv('oddevenbits.csv')"
   ]
  },
  {
   "cell_type": "code",
   "execution_count": 3,
   "id": "97d787fa",
   "metadata": {},
   "outputs": [
    {
     "data": {
      "text/plain": [
       "0       0\n",
       "1       1\n",
       "2       0\n",
       "3       1\n",
       "4       0\n",
       "       ..\n",
       "9995    1\n",
       "9996    0\n",
       "9997    1\n",
       "9998    0\n",
       "9999    1\n",
       "Name: number, Length: 10000, dtype: int64"
      ]
     },
     "execution_count": 3,
     "metadata": {},
     "output_type": "execute_result"
    }
   ],
   "source": [
    "X = df['number']\n",
    "X"
   ]
  },
  {
   "cell_type": "code",
   "execution_count": 4,
   "id": "434575cc",
   "metadata": {},
   "outputs": [
    {
     "data": {
      "text/plain": [
       "0        True\n",
       "1       False\n",
       "2        True\n",
       "3       False\n",
       "4        True\n",
       "        ...  \n",
       "9995    False\n",
       "9996     True\n",
       "9997    False\n",
       "9998     True\n",
       "9999    False\n",
       "Name: iseven, Length: 10000, dtype: bool"
      ]
     },
     "execution_count": 4,
     "metadata": {},
     "output_type": "execute_result"
    }
   ],
   "source": [
    "y = df['iseven']\n",
    "y"
   ]
  },
  {
   "cell_type": "code",
   "execution_count": 5,
   "id": "ae644bbb",
   "metadata": {},
   "outputs": [],
   "source": [
    "from sklearn.tree import DecisionTreeClassifier\n",
    "from sklearn.model_selection import train_test_split\n",
    "from sklearn.metrics import accuracy_score"
   ]
  },
  {
   "cell_type": "code",
   "execution_count": 6,
   "id": "248cf6cd",
   "metadata": {},
   "outputs": [],
   "source": [
    "X_train, X_test, y_train, y_test = train_test_split(X, y, test_size=0.5)"
   ]
  },
  {
   "cell_type": "code",
   "execution_count": 7,
   "id": "9acca8c9",
   "metadata": {},
   "outputs": [
    {
     "data": {
      "text/plain": [
       "9865    1\n",
       "3960    0\n",
       "7659    1\n",
       "1828    0\n",
       "2901    1\n",
       "       ..\n",
       "9808    0\n",
       "8042    0\n",
       "2789    1\n",
       "6689    1\n",
       "6699    1\n",
       "Name: number, Length: 5000, dtype: int64"
      ]
     },
     "execution_count": 7,
     "metadata": {},
     "output_type": "execute_result"
    }
   ],
   "source": [
    "X_train"
   ]
  },
  {
   "cell_type": "code",
   "execution_count": 8,
   "id": "238f9664",
   "metadata": {},
   "outputs": [
    {
     "data": {
      "text/plain": [
       "3403    1\n",
       "2539    1\n",
       "6967    1\n",
       "7324    0\n",
       "8911    1\n",
       "       ..\n",
       "2417    1\n",
       "1052    0\n",
       "3401    1\n",
       "4914    0\n",
       "5508    0\n",
       "Name: number, Length: 5000, dtype: int64"
      ]
     },
     "execution_count": 8,
     "metadata": {},
     "output_type": "execute_result"
    }
   ],
   "source": [
    "X_test"
   ]
  },
  {
   "cell_type": "code",
   "execution_count": 9,
   "id": "ff9ce3f9",
   "metadata": {},
   "outputs": [
    {
     "data": {
      "text/plain": [
       "9865    False\n",
       "3960     True\n",
       "7659    False\n",
       "1828     True\n",
       "2901    False\n",
       "        ...  \n",
       "9808     True\n",
       "8042     True\n",
       "2789    False\n",
       "6689    False\n",
       "6699    False\n",
       "Name: iseven, Length: 5000, dtype: bool"
      ]
     },
     "execution_count": 9,
     "metadata": {},
     "output_type": "execute_result"
    }
   ],
   "source": [
    "y_train"
   ]
  },
  {
   "cell_type": "code",
   "execution_count": 10,
   "id": "ba352696",
   "metadata": {},
   "outputs": [
    {
     "data": {
      "text/plain": [
       "3403    False\n",
       "2539    False\n",
       "6967    False\n",
       "7324     True\n",
       "8911    False\n",
       "        ...  \n",
       "2417    False\n",
       "1052     True\n",
       "3401    False\n",
       "4914     True\n",
       "5508     True\n",
       "Name: iseven, Length: 5000, dtype: bool"
      ]
     },
     "execution_count": 10,
     "metadata": {},
     "output_type": "execute_result"
    }
   ],
   "source": [
    "y_test"
   ]
  },
  {
   "cell_type": "code",
   "execution_count": 11,
   "id": "2fddb61b",
   "metadata": {},
   "outputs": [
    {
     "data": {
      "text/plain": [
       "array([[1],\n",
       "       [0],\n",
       "       [1],\n",
       "       ...,\n",
       "       [1],\n",
       "       [1],\n",
       "       [1]], dtype=int64)"
      ]
     },
     "execution_count": 11,
     "metadata": {},
     "output_type": "execute_result"
    }
   ],
   "source": [
    "import numpy as np\n",
    "\n",
    "X_train = np.array(X_train)\n",
    "X_train = X_train.reshape(-1, 1) # Reshape to N rows with 1 column each\n",
    "# DecisionTreeClassifier expects 2D array\n",
    "\n",
    "X_train # First 10 elements"
   ]
  },
  {
   "cell_type": "code",
   "execution_count": 12,
   "id": "96fb0833",
   "metadata": {},
   "outputs": [
    {
     "data": {
      "text/plain": [
       "DecisionTreeClassifier()"
      ]
     },
     "execution_count": 12,
     "metadata": {},
     "output_type": "execute_result"
    }
   ],
   "source": [
    "model = DecisionTreeClassifier()\n",
    "model.fit(X_train, y_train)"
   ]
  },
  {
   "cell_type": "code",
   "execution_count": 13,
   "id": "9729cc8a",
   "metadata": {},
   "outputs": [
    {
     "data": {
      "text/plain": [
       "array([False, False, False, ..., False,  True,  True])"
      ]
     },
     "execution_count": 13,
     "metadata": {},
     "output_type": "execute_result"
    }
   ],
   "source": [
    "X_test = np.array(X_test)\n",
    "X_test = X_test.reshape(-1, 1)\n",
    "predictions = model.predict(X_test)\n",
    "predictions"
   ]
  },
  {
   "cell_type": "code",
   "execution_count": 14,
   "id": "1aecb428",
   "metadata": {},
   "outputs": [
    {
     "data": {
      "text/plain": [
       "1.0"
      ]
     },
     "execution_count": 14,
     "metadata": {},
     "output_type": "execute_result"
    }
   ],
   "source": [
    "score = accuracy_score(y_test, predictions)\n",
    "score # Very high accuracy"
   ]
  },
  {
   "cell_type": "code",
   "execution_count": 15,
   "id": "fb57ec72",
   "metadata": {},
   "outputs": [],
   "source": [
    "# Visualizing\n",
    "from sklearn import tree\n",
    "\n",
    "tree.export_graphviz(model, out_file='isEvenGraphBits.dot',\n",
    "                     feature_names=['number'],\n",
    "                     class_names=list(map(str, y.unique())),\n",
    "                     label='all',\n",
    "                     rounded=True,\n",
    "                     filled=True)"
   ]
  }
 ],
 "metadata": {
  "kernelspec": {
   "display_name": "Python 3",
   "language": "python",
   "name": "python3"
  },
  "language_info": {
   "codemirror_mode": {
    "name": "ipython",
    "version": 3
   },
   "file_extension": ".py",
   "mimetype": "text/x-python",
   "name": "python",
   "nbconvert_exporter": "python",
   "pygments_lexer": "ipython3",
   "version": "3.9.4"
  }
 },
 "nbformat": 4,
 "nbformat_minor": 5
}
