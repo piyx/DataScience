{
 "cells": [
  {
   "cell_type": "markdown",
   "id": "f439d58e",
   "metadata": {},
   "source": [
    "# Make training data"
   ]
  },
  {
   "cell_type": "code",
   "execution_count": 1,
   "id": "9a790318",
   "metadata": {},
   "outputs": [],
   "source": [
    "import csv\n",
    "\n",
    "def iseven(n: int) -> bool:\n",
    "    return n%2 == 0\n",
    "\n",
    "with open('oddeven.csv', 'w', newline='') as f:\n",
    "    writer = csv.DictWriter(f, fieldnames=['number', 'iseven'])\n",
    "    writer.writeheader()\n",
    "    for num in range(100):\n",
    "        writer.writerow({'number': num, 'iseven': iseven(num)})"
   ]
  },
  {
   "cell_type": "markdown",
   "id": "de5363c7",
   "metadata": {},
   "source": [
    "# Read the data"
   ]
  },
  {
   "cell_type": "code",
   "execution_count": 2,
   "id": "8d6187ef",
   "metadata": {},
   "outputs": [
    {
     "data": {
      "text/html": [
       "<div>\n",
       "<style scoped>\n",
       "    .dataframe tbody tr th:only-of-type {\n",
       "        vertical-align: middle;\n",
       "    }\n",
       "\n",
       "    .dataframe tbody tr th {\n",
       "        vertical-align: top;\n",
       "    }\n",
       "\n",
       "    .dataframe thead th {\n",
       "        text-align: right;\n",
       "    }\n",
       "</style>\n",
       "<table border=\"1\" class=\"dataframe\">\n",
       "  <thead>\n",
       "    <tr style=\"text-align: right;\">\n",
       "      <th></th>\n",
       "      <th>number</th>\n",
       "      <th>iseven</th>\n",
       "    </tr>\n",
       "  </thead>\n",
       "  <tbody>\n",
       "    <tr>\n",
       "      <th>0</th>\n",
       "      <td>0</td>\n",
       "      <td>True</td>\n",
       "    </tr>\n",
       "    <tr>\n",
       "      <th>1</th>\n",
       "      <td>1</td>\n",
       "      <td>False</td>\n",
       "    </tr>\n",
       "    <tr>\n",
       "      <th>2</th>\n",
       "      <td>2</td>\n",
       "      <td>True</td>\n",
       "    </tr>\n",
       "    <tr>\n",
       "      <th>3</th>\n",
       "      <td>3</td>\n",
       "      <td>False</td>\n",
       "    </tr>\n",
       "    <tr>\n",
       "      <th>4</th>\n",
       "      <td>4</td>\n",
       "      <td>True</td>\n",
       "    </tr>\n",
       "    <tr>\n",
       "      <th>...</th>\n",
       "      <td>...</td>\n",
       "      <td>...</td>\n",
       "    </tr>\n",
       "    <tr>\n",
       "      <th>95</th>\n",
       "      <td>95</td>\n",
       "      <td>False</td>\n",
       "    </tr>\n",
       "    <tr>\n",
       "      <th>96</th>\n",
       "      <td>96</td>\n",
       "      <td>True</td>\n",
       "    </tr>\n",
       "    <tr>\n",
       "      <th>97</th>\n",
       "      <td>97</td>\n",
       "      <td>False</td>\n",
       "    </tr>\n",
       "    <tr>\n",
       "      <th>98</th>\n",
       "      <td>98</td>\n",
       "      <td>True</td>\n",
       "    </tr>\n",
       "    <tr>\n",
       "      <th>99</th>\n",
       "      <td>99</td>\n",
       "      <td>False</td>\n",
       "    </tr>\n",
       "  </tbody>\n",
       "</table>\n",
       "<p>100 rows × 2 columns</p>\n",
       "</div>"
      ],
      "text/plain": [
       "    number  iseven\n",
       "0        0    True\n",
       "1        1   False\n",
       "2        2    True\n",
       "3        3   False\n",
       "4        4    True\n",
       "..     ...     ...\n",
       "95      95   False\n",
       "96      96    True\n",
       "97      97   False\n",
       "98      98    True\n",
       "99      99   False\n",
       "\n",
       "[100 rows x 2 columns]"
      ]
     },
     "execution_count": 2,
     "metadata": {},
     "output_type": "execute_result"
    }
   ],
   "source": [
    "import pandas as pd\n",
    "\n",
    "df = pd.read_csv('oddeven.csv')\n",
    "df"
   ]
  },
  {
   "cell_type": "code",
   "execution_count": 3,
   "id": "97d787fa",
   "metadata": {},
   "outputs": [
    {
     "data": {
      "text/plain": [
       "0      0\n",
       "1      1\n",
       "2      2\n",
       "3      3\n",
       "4      4\n",
       "      ..\n",
       "95    95\n",
       "96    96\n",
       "97    97\n",
       "98    98\n",
       "99    99\n",
       "Name: number, Length: 100, dtype: int64"
      ]
     },
     "execution_count": 3,
     "metadata": {},
     "output_type": "execute_result"
    }
   ],
   "source": [
    "X = df['number']\n",
    "X"
   ]
  },
  {
   "cell_type": "code",
   "execution_count": 4,
   "id": "434575cc",
   "metadata": {},
   "outputs": [
    {
     "data": {
      "text/plain": [
       "0      True\n",
       "1     False\n",
       "2      True\n",
       "3     False\n",
       "4      True\n",
       "      ...  \n",
       "95    False\n",
       "96     True\n",
       "97    False\n",
       "98     True\n",
       "99    False\n",
       "Name: iseven, Length: 100, dtype: bool"
      ]
     },
     "execution_count": 4,
     "metadata": {},
     "output_type": "execute_result"
    }
   ],
   "source": [
    "y = df['iseven']\n",
    "y"
   ]
  },
  {
   "cell_type": "code",
   "execution_count": 5,
   "id": "ae644bbb",
   "metadata": {},
   "outputs": [],
   "source": [
    "from sklearn.tree import DecisionTreeClassifier\n",
    "from sklearn.model_selection import train_test_split\n",
    "from sklearn.metrics import accuracy_score"
   ]
  },
  {
   "cell_type": "code",
   "execution_count": 6,
   "id": "248cf6cd",
   "metadata": {},
   "outputs": [],
   "source": [
    "X_train, X_test, y_train, y_test = train_test_split(X, y, test_size=0.5)"
   ]
  },
  {
   "cell_type": "code",
   "execution_count": 7,
   "id": "9acca8c9",
   "metadata": {},
   "outputs": [
    {
     "data": {
      "text/plain": [
       "64    64\n",
       "4      4\n",
       "58    58\n",
       "53    53\n",
       "31    31\n",
       "35    35\n",
       "9      9\n",
       "52    52\n",
       "61    61\n",
       "45    45\n",
       "80    80\n",
       "75    75\n",
       "20    20\n",
       "59    59\n",
       "18    18\n",
       "5      5\n",
       "22    22\n",
       "34    34\n",
       "19    19\n",
       "81    81\n",
       "68    68\n",
       "17    17\n",
       "69    69\n",
       "6      6\n",
       "62    62\n",
       "55    55\n",
       "30    30\n",
       "28    28\n",
       "49    49\n",
       "23    23\n",
       "12    12\n",
       "33    33\n",
       "48    48\n",
       "77    77\n",
       "24    24\n",
       "10    10\n",
       "40    40\n",
       "96    96\n",
       "32    32\n",
       "83    83\n",
       "78    78\n",
       "95    95\n",
       "38    38\n",
       "92    92\n",
       "25    25\n",
       "11    11\n",
       "60    60\n",
       "72    72\n",
       "2      2\n",
       "16    16\n",
       "Name: number, dtype: int64"
      ]
     },
     "execution_count": 7,
     "metadata": {},
     "output_type": "execute_result"
    }
   ],
   "source": [
    "X_train"
   ]
  },
  {
   "cell_type": "code",
   "execution_count": 8,
   "id": "238f9664",
   "metadata": {},
   "outputs": [
    {
     "data": {
      "text/plain": [
       "43    43\n",
       "8      8\n",
       "87    87\n",
       "67    67\n",
       "13    13\n",
       "15    15\n",
       "84    84\n",
       "79    79\n",
       "46    46\n",
       "29    29\n",
       "51    51\n",
       "57    57\n",
       "21    21\n",
       "37    37\n",
       "70    70\n",
       "0      0\n",
       "89    89\n",
       "99    99\n",
       "36    36\n",
       "94    94\n",
       "93    93\n",
       "44    44\n",
       "7      7\n",
       "42    42\n",
       "3      3\n",
       "54    54\n",
       "41    41\n",
       "91    91\n",
       "90    90\n",
       "98    98\n",
       "1      1\n",
       "50    50\n",
       "74    74\n",
       "66    66\n",
       "71    71\n",
       "56    56\n",
       "82    82\n",
       "86    86\n",
       "63    63\n",
       "76    76\n",
       "39    39\n",
       "14    14\n",
       "97    97\n",
       "47    47\n",
       "65    65\n",
       "26    26\n",
       "27    27\n",
       "88    88\n",
       "85    85\n",
       "73    73\n",
       "Name: number, dtype: int64"
      ]
     },
     "execution_count": 8,
     "metadata": {},
     "output_type": "execute_result"
    }
   ],
   "source": [
    "X_test"
   ]
  },
  {
   "cell_type": "code",
   "execution_count": 9,
   "id": "ff9ce3f9",
   "metadata": {},
   "outputs": [
    {
     "data": {
      "text/plain": [
       "64     True\n",
       "4      True\n",
       "58     True\n",
       "53    False\n",
       "31    False\n",
       "35    False\n",
       "9     False\n",
       "52     True\n",
       "61    False\n",
       "45    False\n",
       "80     True\n",
       "75    False\n",
       "20     True\n",
       "59    False\n",
       "18     True\n",
       "5     False\n",
       "22     True\n",
       "34     True\n",
       "19    False\n",
       "81    False\n",
       "68     True\n",
       "17    False\n",
       "69    False\n",
       "6      True\n",
       "62     True\n",
       "55    False\n",
       "30     True\n",
       "28     True\n",
       "49    False\n",
       "23    False\n",
       "12     True\n",
       "33    False\n",
       "48     True\n",
       "77    False\n",
       "24     True\n",
       "10     True\n",
       "40     True\n",
       "96     True\n",
       "32     True\n",
       "83    False\n",
       "78     True\n",
       "95    False\n",
       "38     True\n",
       "92     True\n",
       "25    False\n",
       "11    False\n",
       "60     True\n",
       "72     True\n",
       "2      True\n",
       "16     True\n",
       "Name: iseven, dtype: bool"
      ]
     },
     "execution_count": 9,
     "metadata": {},
     "output_type": "execute_result"
    }
   ],
   "source": [
    "y_train"
   ]
  },
  {
   "cell_type": "code",
   "execution_count": 10,
   "id": "ba352696",
   "metadata": {},
   "outputs": [
    {
     "data": {
      "text/plain": [
       "43    False\n",
       "8      True\n",
       "87    False\n",
       "67    False\n",
       "13    False\n",
       "15    False\n",
       "84     True\n",
       "79    False\n",
       "46     True\n",
       "29    False\n",
       "51    False\n",
       "57    False\n",
       "21    False\n",
       "37    False\n",
       "70     True\n",
       "0      True\n",
       "89    False\n",
       "99    False\n",
       "36     True\n",
       "94     True\n",
       "93    False\n",
       "44     True\n",
       "7     False\n",
       "42     True\n",
       "3     False\n",
       "54     True\n",
       "41    False\n",
       "91    False\n",
       "90     True\n",
       "98     True\n",
       "1     False\n",
       "50     True\n",
       "74     True\n",
       "66     True\n",
       "71    False\n",
       "56     True\n",
       "82     True\n",
       "86     True\n",
       "63    False\n",
       "76     True\n",
       "39    False\n",
       "14     True\n",
       "97    False\n",
       "47    False\n",
       "65    False\n",
       "26     True\n",
       "27    False\n",
       "88     True\n",
       "85    False\n",
       "73    False\n",
       "Name: iseven, dtype: bool"
      ]
     },
     "execution_count": 10,
     "metadata": {},
     "output_type": "execute_result"
    }
   ],
   "source": [
    "y_test"
   ]
  },
  {
   "cell_type": "code",
   "execution_count": 11,
   "id": "2fddb61b",
   "metadata": {},
   "outputs": [
    {
     "data": {
      "text/plain": [
       "array([[64],\n",
       "       [ 4],\n",
       "       [58],\n",
       "       [53],\n",
       "       [31],\n",
       "       [35],\n",
       "       [ 9],\n",
       "       [52],\n",
       "       [61],\n",
       "       [45]], dtype=int64)"
      ]
     },
     "execution_count": 11,
     "metadata": {},
     "output_type": "execute_result"
    }
   ],
   "source": [
    "import numpy as np\n",
    "\n",
    "X_train = np.array(X_train)\n",
    "X_train = X_train.reshape(-1, 1) # Reshape to N rows with 1 column each\n",
    "# DecisionTreeClassifier expects 2D array\n",
    "\n",
    "X_train[:10] # First 10 elements"
   ]
  },
  {
   "cell_type": "code",
   "execution_count": 12,
   "id": "96fb0833",
   "metadata": {},
   "outputs": [
    {
     "data": {
      "text/plain": [
       "DecisionTreeClassifier()"
      ]
     },
     "execution_count": 12,
     "metadata": {},
     "output_type": "execute_result"
    }
   ],
   "source": [
    "model = DecisionTreeClassifier()\n",
    "model.fit(X_train, y_train)"
   ]
  },
  {
   "cell_type": "code",
   "execution_count": 13,
   "id": "9729cc8a",
   "metadata": {},
   "outputs": [
    {
     "data": {
      "text/plain": [
       "array([False, False, False,  True,  True,  True, False,  True, False,\n",
       "        True,  True,  True,  True,  True, False,  True,  True,  True,\n",
       "       False, False,  True, False,  True,  True,  True, False,  True,\n",
       "        True,  True,  True,  True, False, False,  True,  True, False,\n",
       "       False, False,  True, False,  True,  True,  True,  True,  True,\n",
       "       False,  True,  True, False,  True])"
      ]
     },
     "execution_count": 13,
     "metadata": {},
     "output_type": "execute_result"
    }
   ],
   "source": [
    "X_test = np.array(X_test)\n",
    "X_test = X_test.reshape(-1, 1)\n",
    "predictions = model.predict(X_test)\n",
    "predictions"
   ]
  },
  {
   "cell_type": "code",
   "execution_count": 14,
   "id": "1aecb428",
   "metadata": {},
   "outputs": [
    {
     "data": {
      "text/plain": [
       "0.2"
      ]
     },
     "execution_count": 14,
     "metadata": {},
     "output_type": "execute_result"
    }
   ],
   "source": [
    "score = accuracy_score(y_test, predictions)\n",
    "score # Very low accuracy"
   ]
  },
  {
   "cell_type": "code",
   "execution_count": 15,
   "id": "fb57ec72",
   "metadata": {},
   "outputs": [],
   "source": [
    "# Visualizing\n",
    "from sklearn import tree\n",
    "\n",
    "tree.export_graphviz(model, out_file='isEvenGraph.dot',\n",
    "                     feature_names=['number'],\n",
    "                     class_names=list(map(str, y.unique())),\n",
    "                     label='all',\n",
    "                     rounded=True,\n",
    "                     filled=True)"
   ]
  }
 ],
 "metadata": {
  "kernelspec": {
   "display_name": "Python 3",
   "language": "python",
   "name": "python3"
  },
  "language_info": {
   "codemirror_mode": {
    "name": "ipython",
    "version": 3
   },
   "file_extension": ".py",
   "mimetype": "text/x-python",
   "name": "python",
   "nbconvert_exporter": "python",
   "pygments_lexer": "ipython3",
   "version": "3.9.4"
  }
 },
 "nbformat": 4,
 "nbformat_minor": 5
}
