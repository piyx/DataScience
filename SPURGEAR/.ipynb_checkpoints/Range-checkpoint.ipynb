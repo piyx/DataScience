{
 "cells": [
  {
   "cell_type": "code",
   "execution_count": 7,
   "id": "f1bee505",
   "metadata": {},
   "outputs": [],
   "source": [
    "import csv\n",
    "import sys"
   ]
  },
  {
   "cell_type": "code",
   "execution_count": 9,
   "id": "ee6edad8",
   "metadata": {},
   "outputs": [],
   "source": [
    "def random():\n",
    "    with open('unknownDiaInputRandom.csv', 'w', newline='') as f:\n",
    "        input_fields = ['Power', 'Velocity Ratio', 'N1', 'N2', 'z1', 'z2', 'S_d1', 'S_d2', 'material']\n",
    "        writer = csv.DictWriter(f, fieldnames=input_fields)\n",
    "        writer.writeheader()\n",
    "\n",
    "        for p in range(10, 75, 5):\n",
    "            for vr in range(0, 5):\n",
    "                for N1 in range(200, 1500, 100):\n",
    "                    for z1 in range(7, 40, 1):\n",
    "                        for S_d1 in [172.6, 220.6, 207, 233.4, 462, 516.8]:\n",
    "                            for S_d2 in [172.6, 220.6, 207, 233.4, 462, 516.8]:\n",
    "                                writer.writerow({'Power': p, 'Velocity Ratio': vr/2, 'N1': N1, 'z1': z1, 'S_d1': S_d1, 'S_d2': S_d2, 'material': 'steel-steel'})\n",
    "                            return\n",
    "\n",
    "random()"
   ]
  },
  {
   "cell_type": "code",
   "execution_count": null,
   "id": "a81ac839",
   "metadata": {},
   "outputs": [],
   "source": []
  }
 ],
 "metadata": {
  "kernelspec": {
   "display_name": "Python 3",
   "language": "python",
   "name": "python3"
  },
  "language_info": {
   "codemirror_mode": {
    "name": "ipython",
    "version": 3
   },
   "file_extension": ".py",
   "mimetype": "text/x-python",
   "name": "python",
   "nbconvert_exporter": "python",
   "pygments_lexer": "ipython3",
   "version": "3.9.4"
  }
 },
 "nbformat": 4,
 "nbformat_minor": 5
}
